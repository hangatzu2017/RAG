{
  "nbformat": 4,
  "nbformat_minor": 0,
  "metadata": {
    "colab": {
      "provenance": [],
      "gpuType": "T4",
      "include_colab_link": true
    },
    "kernelspec": {
      "name": "python3",
      "display_name": "Python 3"
    },
    "language_info": {
      "name": "python"
    },
    "accelerator": "GPU",
    "widgets": {
      "application/vnd.jupyter.widget-state+json": {
        "f4f9f48a98a74e6493a4bf3008f62904": {
          "model_module": "@jupyter-widgets/controls",
          "model_name": "HBoxModel",
          "model_module_version": "1.5.0",
          "state": {
            "_dom_classes": [],
            "_model_module": "@jupyter-widgets/controls",
            "_model_module_version": "1.5.0",
            "_model_name": "HBoxModel",
            "_view_count": null,
            "_view_module": "@jupyter-widgets/controls",
            "_view_module_version": "1.5.0",
            "_view_name": "HBoxView",
            "box_style": "",
            "children": [
              "IPY_MODEL_3f5a54cb1ddd437094a8db5280c2d77c",
              "IPY_MODEL_f3d406db4f124890bf004e263717a160",
              "IPY_MODEL_1a99a26fc537421196a2975deab0bb1f"
            ],
            "layout": "IPY_MODEL_a7ee304b47a1441eaba5328281b99bff"
          }
        },
        "3f5a54cb1ddd437094a8db5280c2d77c": {
          "model_module": "@jupyter-widgets/controls",
          "model_name": "HTMLModel",
          "model_module_version": "1.5.0",
          "state": {
            "_dom_classes": [],
            "_model_module": "@jupyter-widgets/controls",
            "_model_module_version": "1.5.0",
            "_model_name": "HTMLModel",
            "_view_count": null,
            "_view_module": "@jupyter-widgets/controls",
            "_view_module_version": "1.5.0",
            "_view_name": "HTMLView",
            "description": "",
            "description_tooltip": null,
            "layout": "IPY_MODEL_6ad842f84aec4267bab3430b2cc8b81e",
            "placeholder": "​",
            "style": "IPY_MODEL_2d481b109b0f4c18bb74b4cf12297759",
            "value": "Fetching 1 files: 100%"
          }
        },
        "f3d406db4f124890bf004e263717a160": {
          "model_module": "@jupyter-widgets/controls",
          "model_name": "FloatProgressModel",
          "model_module_version": "1.5.0",
          "state": {
            "_dom_classes": [],
            "_model_module": "@jupyter-widgets/controls",
            "_model_module_version": "1.5.0",
            "_model_name": "FloatProgressModel",
            "_view_count": null,
            "_view_module": "@jupyter-widgets/controls",
            "_view_module_version": "1.5.0",
            "_view_name": "ProgressView",
            "bar_style": "success",
            "description": "",
            "description_tooltip": null,
            "layout": "IPY_MODEL_ebd5c2ccb1dd41c4a37fb8f19580b639",
            "max": 1,
            "min": 0,
            "orientation": "horizontal",
            "style": "IPY_MODEL_d79f904667904a6e95e417c48fe92b97",
            "value": 1
          }
        },
        "1a99a26fc537421196a2975deab0bb1f": {
          "model_module": "@jupyter-widgets/controls",
          "model_name": "HTMLModel",
          "model_module_version": "1.5.0",
          "state": {
            "_dom_classes": [],
            "_model_module": "@jupyter-widgets/controls",
            "_model_module_version": "1.5.0",
            "_model_name": "HTMLModel",
            "_view_count": null,
            "_view_module": "@jupyter-widgets/controls",
            "_view_module_version": "1.5.0",
            "_view_name": "HTMLView",
            "description": "",
            "description_tooltip": null,
            "layout": "IPY_MODEL_0ee17e9452c84179a264ed1001e7de13",
            "placeholder": "​",
            "style": "IPY_MODEL_907558c8018e443aac0a16fbdcb91343",
            "value": " 1/1 [00:00&lt;00:00, 62.03it/s]"
          }
        },
        "a7ee304b47a1441eaba5328281b99bff": {
          "model_module": "@jupyter-widgets/base",
          "model_name": "LayoutModel",
          "model_module_version": "1.2.0",
          "state": {
            "_model_module": "@jupyter-widgets/base",
            "_model_module_version": "1.2.0",
            "_model_name": "LayoutModel",
            "_view_count": null,
            "_view_module": "@jupyter-widgets/base",
            "_view_module_version": "1.2.0",
            "_view_name": "LayoutView",
            "align_content": null,
            "align_items": null,
            "align_self": null,
            "border": null,
            "bottom": null,
            "display": null,
            "flex": null,
            "flex_flow": null,
            "grid_area": null,
            "grid_auto_columns": null,
            "grid_auto_flow": null,
            "grid_auto_rows": null,
            "grid_column": null,
            "grid_gap": null,
            "grid_row": null,
            "grid_template_areas": null,
            "grid_template_columns": null,
            "grid_template_rows": null,
            "height": null,
            "justify_content": null,
            "justify_items": null,
            "left": null,
            "margin": null,
            "max_height": null,
            "max_width": null,
            "min_height": null,
            "min_width": null,
            "object_fit": null,
            "object_position": null,
            "order": null,
            "overflow": null,
            "overflow_x": null,
            "overflow_y": null,
            "padding": null,
            "right": null,
            "top": null,
            "visibility": null,
            "width": null
          }
        },
        "6ad842f84aec4267bab3430b2cc8b81e": {
          "model_module": "@jupyter-widgets/base",
          "model_name": "LayoutModel",
          "model_module_version": "1.2.0",
          "state": {
            "_model_module": "@jupyter-widgets/base",
            "_model_module_version": "1.2.0",
            "_model_name": "LayoutModel",
            "_view_count": null,
            "_view_module": "@jupyter-widgets/base",
            "_view_module_version": "1.2.0",
            "_view_name": "LayoutView",
            "align_content": null,
            "align_items": null,
            "align_self": null,
            "border": null,
            "bottom": null,
            "display": null,
            "flex": null,
            "flex_flow": null,
            "grid_area": null,
            "grid_auto_columns": null,
            "grid_auto_flow": null,
            "grid_auto_rows": null,
            "grid_column": null,
            "grid_gap": null,
            "grid_row": null,
            "grid_template_areas": null,
            "grid_template_columns": null,
            "grid_template_rows": null,
            "height": null,
            "justify_content": null,
            "justify_items": null,
            "left": null,
            "margin": null,
            "max_height": null,
            "max_width": null,
            "min_height": null,
            "min_width": null,
            "object_fit": null,
            "object_position": null,
            "order": null,
            "overflow": null,
            "overflow_x": null,
            "overflow_y": null,
            "padding": null,
            "right": null,
            "top": null,
            "visibility": null,
            "width": null
          }
        },
        "2d481b109b0f4c18bb74b4cf12297759": {
          "model_module": "@jupyter-widgets/controls",
          "model_name": "DescriptionStyleModel",
          "model_module_version": "1.5.0",
          "state": {
            "_model_module": "@jupyter-widgets/controls",
            "_model_module_version": "1.5.0",
            "_model_name": "DescriptionStyleModel",
            "_view_count": null,
            "_view_module": "@jupyter-widgets/base",
            "_view_module_version": "1.2.0",
            "_view_name": "StyleView",
            "description_width": ""
          }
        },
        "ebd5c2ccb1dd41c4a37fb8f19580b639": {
          "model_module": "@jupyter-widgets/base",
          "model_name": "LayoutModel",
          "model_module_version": "1.2.0",
          "state": {
            "_model_module": "@jupyter-widgets/base",
            "_model_module_version": "1.2.0",
            "_model_name": "LayoutModel",
            "_view_count": null,
            "_view_module": "@jupyter-widgets/base",
            "_view_module_version": "1.2.0",
            "_view_name": "LayoutView",
            "align_content": null,
            "align_items": null,
            "align_self": null,
            "border": null,
            "bottom": null,
            "display": null,
            "flex": null,
            "flex_flow": null,
            "grid_area": null,
            "grid_auto_columns": null,
            "grid_auto_flow": null,
            "grid_auto_rows": null,
            "grid_column": null,
            "grid_gap": null,
            "grid_row": null,
            "grid_template_areas": null,
            "grid_template_columns": null,
            "grid_template_rows": null,
            "height": null,
            "justify_content": null,
            "justify_items": null,
            "left": null,
            "margin": null,
            "max_height": null,
            "max_width": null,
            "min_height": null,
            "min_width": null,
            "object_fit": null,
            "object_position": null,
            "order": null,
            "overflow": null,
            "overflow_x": null,
            "overflow_y": null,
            "padding": null,
            "right": null,
            "top": null,
            "visibility": null,
            "width": null
          }
        },
        "d79f904667904a6e95e417c48fe92b97": {
          "model_module": "@jupyter-widgets/controls",
          "model_name": "ProgressStyleModel",
          "model_module_version": "1.5.0",
          "state": {
            "_model_module": "@jupyter-widgets/controls",
            "_model_module_version": "1.5.0",
            "_model_name": "ProgressStyleModel",
            "_view_count": null,
            "_view_module": "@jupyter-widgets/base",
            "_view_module_version": "1.2.0",
            "_view_name": "StyleView",
            "bar_color": null,
            "description_width": ""
          }
        },
        "0ee17e9452c84179a264ed1001e7de13": {
          "model_module": "@jupyter-widgets/base",
          "model_name": "LayoutModel",
          "model_module_version": "1.2.0",
          "state": {
            "_model_module": "@jupyter-widgets/base",
            "_model_module_version": "1.2.0",
            "_model_name": "LayoutModel",
            "_view_count": null,
            "_view_module": "@jupyter-widgets/base",
            "_view_module_version": "1.2.0",
            "_view_name": "LayoutView",
            "align_content": null,
            "align_items": null,
            "align_self": null,
            "border": null,
            "bottom": null,
            "display": null,
            "flex": null,
            "flex_flow": null,
            "grid_area": null,
            "grid_auto_columns": null,
            "grid_auto_flow": null,
            "grid_auto_rows": null,
            "grid_column": null,
            "grid_gap": null,
            "grid_row": null,
            "grid_template_areas": null,
            "grid_template_columns": null,
            "grid_template_rows": null,
            "height": null,
            "justify_content": null,
            "justify_items": null,
            "left": null,
            "margin": null,
            "max_height": null,
            "max_width": null,
            "min_height": null,
            "min_width": null,
            "object_fit": null,
            "object_position": null,
            "order": null,
            "overflow": null,
            "overflow_x": null,
            "overflow_y": null,
            "padding": null,
            "right": null,
            "top": null,
            "visibility": null,
            "width": null
          }
        },
        "907558c8018e443aac0a16fbdcb91343": {
          "model_module": "@jupyter-widgets/controls",
          "model_name": "DescriptionStyleModel",
          "model_module_version": "1.5.0",
          "state": {
            "_model_module": "@jupyter-widgets/controls",
            "_model_module_version": "1.5.0",
            "_model_name": "DescriptionStyleModel",
            "_view_count": null,
            "_view_module": "@jupyter-widgets/base",
            "_view_module_version": "1.2.0",
            "_view_name": "StyleView",
            "description_width": ""
          }
        },
        "7d720b7011ce471ba439cb28af944570": {
          "model_module": "@jupyter-widgets/controls",
          "model_name": "HBoxModel",
          "model_module_version": "1.5.0",
          "state": {
            "_dom_classes": [],
            "_model_module": "@jupyter-widgets/controls",
            "_model_module_version": "1.5.0",
            "_model_name": "HBoxModel",
            "_view_count": null,
            "_view_module": "@jupyter-widgets/controls",
            "_view_module_version": "1.5.0",
            "_view_name": "HBoxView",
            "box_style": "",
            "children": [
              "IPY_MODEL_e4a65c3062c64e99a02e0f56bfad2868",
              "IPY_MODEL_7fd6b327cf114931abdfed400cbb44e5",
              "IPY_MODEL_1f2101d34b994e48908ec84c3b4e1c61"
            ],
            "layout": "IPY_MODEL_5d1f290fb516497ca119dfe8d4d06d29"
          }
        },
        "e4a65c3062c64e99a02e0f56bfad2868": {
          "model_module": "@jupyter-widgets/controls",
          "model_name": "HTMLModel",
          "model_module_version": "1.5.0",
          "state": {
            "_dom_classes": [],
            "_model_module": "@jupyter-widgets/controls",
            "_model_module_version": "1.5.0",
            "_model_name": "HTMLModel",
            "_view_count": null,
            "_view_module": "@jupyter-widgets/controls",
            "_view_module_version": "1.5.0",
            "_view_name": "HTMLView",
            "description": "",
            "description_tooltip": null,
            "layout": "IPY_MODEL_f9a389525e9146afad5608989d7ff25b",
            "placeholder": "​",
            "style": "IPY_MODEL_acfcc11893b04edc8c9a82813845824c",
            "value": "Fetching 1 files: 100%"
          }
        },
        "7fd6b327cf114931abdfed400cbb44e5": {
          "model_module": "@jupyter-widgets/controls",
          "model_name": "FloatProgressModel",
          "model_module_version": "1.5.0",
          "state": {
            "_dom_classes": [],
            "_model_module": "@jupyter-widgets/controls",
            "_model_module_version": "1.5.0",
            "_model_name": "FloatProgressModel",
            "_view_count": null,
            "_view_module": "@jupyter-widgets/controls",
            "_view_module_version": "1.5.0",
            "_view_name": "ProgressView",
            "bar_style": "success",
            "description": "",
            "description_tooltip": null,
            "layout": "IPY_MODEL_50d5ab32a0b34399babd7751925e00f0",
            "max": 1,
            "min": 0,
            "orientation": "horizontal",
            "style": "IPY_MODEL_e5097881c1bf40f8866fcc2d4c75db36",
            "value": 1
          }
        },
        "1f2101d34b994e48908ec84c3b4e1c61": {
          "model_module": "@jupyter-widgets/controls",
          "model_name": "HTMLModel",
          "model_module_version": "1.5.0",
          "state": {
            "_dom_classes": [],
            "_model_module": "@jupyter-widgets/controls",
            "_model_module_version": "1.5.0",
            "_model_name": "HTMLModel",
            "_view_count": null,
            "_view_module": "@jupyter-widgets/controls",
            "_view_module_version": "1.5.0",
            "_view_name": "HTMLView",
            "description": "",
            "description_tooltip": null,
            "layout": "IPY_MODEL_685739a4fcc945dca5adea197a573ab3",
            "placeholder": "​",
            "style": "IPY_MODEL_3fbdb09134e64c8793e45996d3f9b712",
            "value": " 1/1 [00:00&lt;00:00, 62.87it/s]"
          }
        },
        "5d1f290fb516497ca119dfe8d4d06d29": {
          "model_module": "@jupyter-widgets/base",
          "model_name": "LayoutModel",
          "model_module_version": "1.2.0",
          "state": {
            "_model_module": "@jupyter-widgets/base",
            "_model_module_version": "1.2.0",
            "_model_name": "LayoutModel",
            "_view_count": null,
            "_view_module": "@jupyter-widgets/base",
            "_view_module_version": "1.2.0",
            "_view_name": "LayoutView",
            "align_content": null,
            "align_items": null,
            "align_self": null,
            "border": null,
            "bottom": null,
            "display": null,
            "flex": null,
            "flex_flow": null,
            "grid_area": null,
            "grid_auto_columns": null,
            "grid_auto_flow": null,
            "grid_auto_rows": null,
            "grid_column": null,
            "grid_gap": null,
            "grid_row": null,
            "grid_template_areas": null,
            "grid_template_columns": null,
            "grid_template_rows": null,
            "height": null,
            "justify_content": null,
            "justify_items": null,
            "left": null,
            "margin": null,
            "max_height": null,
            "max_width": null,
            "min_height": null,
            "min_width": null,
            "object_fit": null,
            "object_position": null,
            "order": null,
            "overflow": null,
            "overflow_x": null,
            "overflow_y": null,
            "padding": null,
            "right": null,
            "top": null,
            "visibility": null,
            "width": null
          }
        },
        "f9a389525e9146afad5608989d7ff25b": {
          "model_module": "@jupyter-widgets/base",
          "model_name": "LayoutModel",
          "model_module_version": "1.2.0",
          "state": {
            "_model_module": "@jupyter-widgets/base",
            "_model_module_version": "1.2.0",
            "_model_name": "LayoutModel",
            "_view_count": null,
            "_view_module": "@jupyter-widgets/base",
            "_view_module_version": "1.2.0",
            "_view_name": "LayoutView",
            "align_content": null,
            "align_items": null,
            "align_self": null,
            "border": null,
            "bottom": null,
            "display": null,
            "flex": null,
            "flex_flow": null,
            "grid_area": null,
            "grid_auto_columns": null,
            "grid_auto_flow": null,
            "grid_auto_rows": null,
            "grid_column": null,
            "grid_gap": null,
            "grid_row": null,
            "grid_template_areas": null,
            "grid_template_columns": null,
            "grid_template_rows": null,
            "height": null,
            "justify_content": null,
            "justify_items": null,
            "left": null,
            "margin": null,
            "max_height": null,
            "max_width": null,
            "min_height": null,
            "min_width": null,
            "object_fit": null,
            "object_position": null,
            "order": null,
            "overflow": null,
            "overflow_x": null,
            "overflow_y": null,
            "padding": null,
            "right": null,
            "top": null,
            "visibility": null,
            "width": null
          }
        },
        "acfcc11893b04edc8c9a82813845824c": {
          "model_module": "@jupyter-widgets/controls",
          "model_name": "DescriptionStyleModel",
          "model_module_version": "1.5.0",
          "state": {
            "_model_module": "@jupyter-widgets/controls",
            "_model_module_version": "1.5.0",
            "_model_name": "DescriptionStyleModel",
            "_view_count": null,
            "_view_module": "@jupyter-widgets/base",
            "_view_module_version": "1.2.0",
            "_view_name": "StyleView",
            "description_width": ""
          }
        },
        "50d5ab32a0b34399babd7751925e00f0": {
          "model_module": "@jupyter-widgets/base",
          "model_name": "LayoutModel",
          "model_module_version": "1.2.0",
          "state": {
            "_model_module": "@jupyter-widgets/base",
            "_model_module_version": "1.2.0",
            "_model_name": "LayoutModel",
            "_view_count": null,
            "_view_module": "@jupyter-widgets/base",
            "_view_module_version": "1.2.0",
            "_view_name": "LayoutView",
            "align_content": null,
            "align_items": null,
            "align_self": null,
            "border": null,
            "bottom": null,
            "display": null,
            "flex": null,
            "flex_flow": null,
            "grid_area": null,
            "grid_auto_columns": null,
            "grid_auto_flow": null,
            "grid_auto_rows": null,
            "grid_column": null,
            "grid_gap": null,
            "grid_row": null,
            "grid_template_areas": null,
            "grid_template_columns": null,
            "grid_template_rows": null,
            "height": null,
            "justify_content": null,
            "justify_items": null,
            "left": null,
            "margin": null,
            "max_height": null,
            "max_width": null,
            "min_height": null,
            "min_width": null,
            "object_fit": null,
            "object_position": null,
            "order": null,
            "overflow": null,
            "overflow_x": null,
            "overflow_y": null,
            "padding": null,
            "right": null,
            "top": null,
            "visibility": null,
            "width": null
          }
        },
        "e5097881c1bf40f8866fcc2d4c75db36": {
          "model_module": "@jupyter-widgets/controls",
          "model_name": "ProgressStyleModel",
          "model_module_version": "1.5.0",
          "state": {
            "_model_module": "@jupyter-widgets/controls",
            "_model_module_version": "1.5.0",
            "_model_name": "ProgressStyleModel",
            "_view_count": null,
            "_view_module": "@jupyter-widgets/base",
            "_view_module_version": "1.2.0",
            "_view_name": "StyleView",
            "bar_color": null,
            "description_width": ""
          }
        },
        "685739a4fcc945dca5adea197a573ab3": {
          "model_module": "@jupyter-widgets/base",
          "model_name": "LayoutModel",
          "model_module_version": "1.2.0",
          "state": {
            "_model_module": "@jupyter-widgets/base",
            "_model_module_version": "1.2.0",
            "_model_name": "LayoutModel",
            "_view_count": null,
            "_view_module": "@jupyter-widgets/base",
            "_view_module_version": "1.2.0",
            "_view_name": "LayoutView",
            "align_content": null,
            "align_items": null,
            "align_self": null,
            "border": null,
            "bottom": null,
            "display": null,
            "flex": null,
            "flex_flow": null,
            "grid_area": null,
            "grid_auto_columns": null,
            "grid_auto_flow": null,
            "grid_auto_rows": null,
            "grid_column": null,
            "grid_gap": null,
            "grid_row": null,
            "grid_template_areas": null,
            "grid_template_columns": null,
            "grid_template_rows": null,
            "height": null,
            "justify_content": null,
            "justify_items": null,
            "left": null,
            "margin": null,
            "max_height": null,
            "max_width": null,
            "min_height": null,
            "min_width": null,
            "object_fit": null,
            "object_position": null,
            "order": null,
            "overflow": null,
            "overflow_x": null,
            "overflow_y": null,
            "padding": null,
            "right": null,
            "top": null,
            "visibility": null,
            "width": null
          }
        },
        "3fbdb09134e64c8793e45996d3f9b712": {
          "model_module": "@jupyter-widgets/controls",
          "model_name": "DescriptionStyleModel",
          "model_module_version": "1.5.0",
          "state": {
            "_model_module": "@jupyter-widgets/controls",
            "_model_module_version": "1.5.0",
            "_model_name": "DescriptionStyleModel",
            "_view_count": null,
            "_view_module": "@jupyter-widgets/base",
            "_view_module_version": "1.2.0",
            "_view_name": "StyleView",
            "description_width": ""
          }
        }
      }
    }
  },
  "cells": [
    {
      "cell_type": "markdown",
      "metadata": {
        "id": "view-in-github",
        "colab_type": "text"
      },
      "source": [
        "<a href=\"https://colab.research.google.com/github/hangatzu2017/RAG/blob/main/RAG_Chromadb_mistral7b.ipynb\" target=\"_parent\"><img src=\"https://colab.research.google.com/assets/colab-badge.svg\" alt=\"Open In Colab\"/></a>"
      ]
    },
    {
      "cell_type": "markdown",
      "source": [
        "# RAG con Minstral 7B\n",
        "\n",
        "In questo notebook esploreremo l'utilizzo del modello open source **Mistral-7B** facendo uso dei transformers di Hugging Face e del framework Langchain per la realizzazione di un sistema RAG basico.\n",
        "Per la gestione dei vettori invece ci affideremo al Database vettoriale opensource ChromaDB.\n",
        "\n",
        "---\n",
        "\n",
        "🚨 _Nota Bene: che l'esecuzione su CPU è molto lenta. Se si esegue su Google Colab, è possibile evitare questo problema andando su **Runtime > Change runtime type > Hardware accelerator > GPU > GPU type > T4**._\n",
        "\n",
        "---\n",
        "\n",
        "Iniziamo con il verificare che il runtime sia impostato correttamente con:"
      ],
      "metadata": {
        "id": "_e_vT7ietoZh"
      }
    },
    {
      "cell_type": "code",
      "source": [
        "!nvidia-smi"
      ],
      "metadata": {
        "colab": {
          "base_uri": "https://localhost:8080/"
        },
        "id": "z0u6xQMKCOYz",
        "outputId": "00939310-1dee-480c-a409-f8fc6a5fff88"
      },
      "execution_count": 1,
      "outputs": [
        {
          "output_type": "stream",
          "name": "stdout",
          "text": [
            "Fri Dec 22 15:04:32 2023       \n",
            "+---------------------------------------------------------------------------------------+\n",
            "| NVIDIA-SMI 535.104.05             Driver Version: 535.104.05   CUDA Version: 12.2     |\n",
            "|-----------------------------------------+----------------------+----------------------+\n",
            "| GPU  Name                 Persistence-M | Bus-Id        Disp.A | Volatile Uncorr. ECC |\n",
            "| Fan  Temp   Perf          Pwr:Usage/Cap |         Memory-Usage | GPU-Util  Compute M. |\n",
            "|                                         |                      |               MIG M. |\n",
            "|=========================================+======================+======================|\n",
            "|   0  Tesla T4                       Off | 00000000:00:04.0 Off |                    0 |\n",
            "| N/A   68C    P8              11W /  70W |      0MiB / 15360MiB |      0%      Default |\n",
            "|                                         |                      |                  N/A |\n",
            "+-----------------------------------------+----------------------+----------------------+\n",
            "                                                                                         \n",
            "+---------------------------------------------------------------------------------------+\n",
            "| Processes:                                                                            |\n",
            "|  GPU   GI   CI        PID   Type   Process name                            GPU Memory |\n",
            "|        ID   ID                                                             Usage      |\n",
            "|=======================================================================================|\n",
            "|  No running processes found                                                           |\n",
            "+---------------------------------------------------------------------------------------+\n"
          ]
        }
      ]
    },
    {
      "cell_type": "markdown",
      "source": [
        "Proseguiamo con l'installazione di tutte le librerie necessarie tramite pip con `pip install`."
      ],
      "metadata": {
        "id": "-wkSu4f9t0fL"
      }
    },
    {
      "cell_type": "code",
      "execution_count": 2,
      "metadata": {
        "id": "q9efInp3Wlup"
      },
      "outputs": [],
      "source": [
        "!pip install -q -U bitsandbytes\n",
        "!pip install -q -U transformers\n",
        "!pip install -q -U peft\n",
        "!pip install -q -U accelerate\n",
        "!pip install -q -U einops\n",
        "!pip install -q -U safetensors\n",
        "!pip install -q -U xformers\n",
        "!pip install -q -U langchain\n",
        "!pip install -q -U ctransformers[cuda]\n",
        "!pip install -q -U chromadb"
      ]
    },
    {
      "cell_type": "markdown",
      "source": [
        "Importiamo le necessarie librerie"
      ],
      "metadata": {
        "id": "Jv6g9gzTu0OS"
      }
    },
    {
      "cell_type": "code",
      "source": [
        "import chromadb\n",
        "from chromadb.config import Settings\n",
        "from langchain.vectorstores import Chroma\n",
        "from langchain.embeddings import HuggingFaceBgeEmbeddings\n",
        "from langchain.document_loaders import PyPDFLoader, TextLoader\n",
        "from langchain.text_splitter import RecursiveCharacterTextSplitter"
      ],
      "metadata": {
        "id": "Nqi5A3Xx5Vpg"
      },
      "execution_count": 3,
      "outputs": []
    },
    {
      "cell_type": "markdown",
      "source": [
        "Scarichiamo un file (PDF nel nostro caso) dal quale il nostro LLM acquisirà la \"conoscenza\" (knowledge).\n",
        "Personalmente ho usato questo PDF: https://www.maristi.it/ciao/wp-content/uploads/2020/02/scuolaguida-manuale-teoria-A1-A-B.pdf poichè sufficientemente ampio per testare con un bel po' di domande. Siete comunque liberi di caricare qualsiasi file desideriate."
      ],
      "metadata": {
        "id": "MfD-L-yfvQCx"
      }
    },
    {
      "cell_type": "code",
      "source": [
        "loader_doc = PyPDFLoader(\"https://www.maristi.it/ciao/wp-content/uploads/2020/02/scuolaguida-manuale-teoria-A1-A-B.pdf\")\n",
        "documents_second = loader_doc.load()\n",
        "text_splitter_doc = RecursiveCharacterTextSplitter(chunk_size=1000, chunk_overlap=100)\n",
        "texts_doc = text_splitter_doc.split_documents(documents_second)\n",
        "\n",
        "print(texts_doc[0].page_content)"
      ],
      "metadata": {
        "id": "eoT6JJbMOxB-",
        "outputId": "00d13dc1-b846-4984-cea1-cca549c6c067",
        "colab": {
          "base_uri": "https://localhost:8080/"
        }
      },
      "execution_count": 4,
      "outputs": [
        {
          "output_type": "stream",
          "name": "stdout",
          "text": [
            "Valerio Platia \n",
            "Roberto Mastri \n",
            " \n",
            " \n",
            " \n",
            "Manuale di  teoria \n",
            "per le patenti A1, A e  B\n",
            "Edizione 2008\n"
          ]
        }
      ]
    },
    {
      "cell_type": "markdown",
      "source": [
        "Procediamo con la creazione degli embeddings (vettori n dimensionali) che rappresentano il nostro testo diviso in parti (chunks). I modelli di embeddings sono decisamente molti, per l'italiano però (come al solito) non vi è molto materiale sopratutto open source, pertanto consiglio di deviare verso modelli multi language che tutto sommato non performano malaccio."
      ],
      "metadata": {
        "id": "abKz4ycMAmyA"
      }
    },
    {
      "cell_type": "code",
      "source": [
        "from langchain.embeddings import HuggingFaceEmbeddings\n",
        "from langchain.chains import RetrievalQA\n",
        "\n",
        "model_name = \"intfloat/multilingual-e5-base\"\n",
        "model_kwargs = {\"device\": \"cuda\"}\n",
        "embeddings = HuggingFaceEmbeddings(model_name=model_name, model_kwargs=model_kwargs)\n",
        "\n",
        "# Vettorializzazione dei chunk calcolati sopra e salvataggio (per la persistenza) nella cartella \"chroma_db\"\n",
        "vectordb = Chroma.from_documents(documents=texts_doc, embedding=embeddings, persist_directory=\"chroma_db\")\n",
        "\n",
        "# Impostazione del retriever\n",
        "retriever = vectordb.as_retriever()\n"
      ],
      "metadata": {
        "id": "6mT0mMqtctGl"
      },
      "execution_count": 5,
      "outputs": []
    },
    {
      "cell_type": "markdown",
      "source": [
        "Definiamo ora il prompt di Sistema, ossia diamo un'identità al nostro modello LLM ed impostiamo alcuni parametri di base per lo stesso. Uno dei parametri a cui fare attenzione è la temperatura, per i sistemi RAG infatti è bene tenerla più bassa possibile (vicino allo zero) cosicchè le risposte siano attinenti ai fatti di contesto evitando le famose \"allucinazioni\" tipiche dei modelli di grandi dimensioni.\n",
        "\n",
        "----\n",
        "\n",
        "_Nota Bene: Personalmente preferisco che il prompt di sistema resti in inglese, sembra che in questo modo venga compreso meglio dal modello, ma predentelo con le pinze, specificherò comunque che la sua risposta dovrà sempre essere data in lingua italiana_\n",
        "\n",
        "----\n",
        "\n"
      ],
      "metadata": {
        "id": "2c8V_KnxxRvH"
      }
    },
    {
      "cell_type": "code",
      "source": [
        "from langchain.llms import CTransformers\n",
        "\n",
        "# Configurazione parametri base LLM\n",
        "config = {'max_new_tokens': 512, 'repetition_penalty': 1.1, 'context_length': 2048, 'temperature':0, 'gpu_layers':50}\n",
        "\n",
        "# Utilizziamo il modello quantizzato a 4bit (formato GGUF)\n",
        "llm = CTransformers(model='TheBloke/Mistral-7B-Instruct-v0.1-GGUF',model_file=\"mistral-7b-instruct-v0.1.Q4_K_M.gguf\",gpu_layers=50, config=config)\n"
      ],
      "metadata": {
        "id": "dL55zYip0-iJ",
        "outputId": "4e5e1aa5-d618-4720-8c39-e0a6f69638a0",
        "colab": {
          "base_uri": "https://localhost:8080/",
          "height": 81,
          "referenced_widgets": [
            "f4f9f48a98a74e6493a4bf3008f62904",
            "3f5a54cb1ddd437094a8db5280c2d77c",
            "f3d406db4f124890bf004e263717a160",
            "1a99a26fc537421196a2975deab0bb1f",
            "a7ee304b47a1441eaba5328281b99bff",
            "6ad842f84aec4267bab3430b2cc8b81e",
            "2d481b109b0f4c18bb74b4cf12297759",
            "ebd5c2ccb1dd41c4a37fb8f19580b639",
            "d79f904667904a6e95e417c48fe92b97",
            "0ee17e9452c84179a264ed1001e7de13",
            "907558c8018e443aac0a16fbdcb91343",
            "7d720b7011ce471ba439cb28af944570",
            "e4a65c3062c64e99a02e0f56bfad2868",
            "7fd6b327cf114931abdfed400cbb44e5",
            "1f2101d34b994e48908ec84c3b4e1c61",
            "5d1f290fb516497ca119dfe8d4d06d29",
            "f9a389525e9146afad5608989d7ff25b",
            "acfcc11893b04edc8c9a82813845824c",
            "50d5ab32a0b34399babd7751925e00f0",
            "e5097881c1bf40f8866fcc2d4c75db36",
            "685739a4fcc945dca5adea197a573ab3",
            "3fbdb09134e64c8793e45996d3f9b712"
          ]
        }
      },
      "execution_count": 6,
      "outputs": [
        {
          "output_type": "display_data",
          "data": {
            "text/plain": [
              "Fetching 1 files:   0%|          | 0/1 [00:00<?, ?it/s]"
            ],
            "application/vnd.jupyter.widget-view+json": {
              "version_major": 2,
              "version_minor": 0,
              "model_id": "f4f9f48a98a74e6493a4bf3008f62904"
            }
          },
          "metadata": {}
        },
        {
          "output_type": "display_data",
          "data": {
            "text/plain": [
              "Fetching 1 files:   0%|          | 0/1 [00:00<?, ?it/s]"
            ],
            "application/vnd.jupyter.widget-view+json": {
              "version_major": 2,
              "version_minor": 0,
              "model_id": "7d720b7011ce471ba439cb28af944570"
            }
          },
          "metadata": {}
        }
      ]
    },
    {
      "cell_type": "code",
      "source": [
        "from langchain.prompts import PromptTemplate\n",
        "from langchain.chains import LLMChain\n",
        "\n",
        "# Definiamo il template del prompt di sistema (in inglese specificando che desideriamo risultati in italiano)\n",
        "template = \"\"\"<s>[INST] You are a helpful, respectful and honest assistant. Your answers should always be in Italian. Answer exactly in few words from the context.\n",
        "Answer the question below from context below :\n",
        "{context}\n",
        "{question} [/INST] </s>\n",
        "\"\"\"\n",
        "\n",
        "prompt_template = PromptTemplate(template=template, input_variables=[\"context\", \"question\"])\n",
        "\n",
        "# Impostazione della catena di Question and Answer (approfondisci qui : https://api.python.langchain.com/en/latest/chains/langchain.chains.retrieval_qa.base.RetrievalQA.html#)\n",
        "qa = RetrievalQA.from_chain_type(\n",
        "    llm=llm,\n",
        "    chain_type=\"stuff\",\n",
        "    retriever=retriever,\n",
        "    verbose=True,\n",
        "    chain_type_kwargs={\"prompt\": prompt_template},\n",
        ")\n"
      ],
      "metadata": {
        "id": "_xQmI89G68XW"
      },
      "execution_count": 10,
      "outputs": []
    },
    {
      "cell_type": "code",
      "source": [
        "def run_my_rag(qa, query):\n",
        "    print(f\"Domanda: {query}\\n\")\n",
        "    result = qa.run(query)\n",
        "    print(\"\\nRisposta: \", result)\n"
      ],
      "metadata": {
        "id": "EqUPeKH6crpM"
      },
      "execution_count": 11,
      "outputs": []
    },
    {
      "cell_type": "code",
      "source": [
        "### Facciamo la nostra domanda\n",
        "query =\"\"\" Quando è vietato il sorpasso? \"\"\"\n",
        "run_my_rag(qa, query)"
      ],
      "metadata": {
        "id": "bwGjWnoNai9y",
        "outputId": "86f00657-42ce-4b84-c9c2-8e5b3d00f22a",
        "colab": {
          "base_uri": "https://localhost:8080/"
        }
      },
      "execution_count": 12,
      "outputs": [
        {
          "output_type": "stream",
          "name": "stdout",
          "text": [
            "Domanda:  Quando è vietato il sorpasso? \n",
            "\n",
            "\n",
            "\n",
            "\u001b[1m> Entering new RetrievalQA chain...\u001b[0m\n",
            "\n",
            "\u001b[1m> Finished chain.\u001b[0m\n",
            "\n",
            "Risposta:  \n",
            "Il sorpasso è consentito solo se il veicolo che si sorpassa è un motociclo o una bicicletta, oppure se l'incrocio è regolato da segnalazione semaforica o da agenti preposti al traffico e non invade l'opposto senso di marcia.\n"
          ]
        }
      ]
    }
  ]
}