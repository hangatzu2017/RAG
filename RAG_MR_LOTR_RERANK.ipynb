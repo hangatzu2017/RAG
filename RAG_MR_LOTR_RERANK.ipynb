{
  "nbformat": 4,
  "nbformat_minor": 0,
  "metadata": {
    "colab": {
      "provenance": [],
      "collapsed_sections": [
        "fbe5TJAJp7cB",
        "f3alXHAEq5ks",
        "UsRrVb5qr9Vh",
        "5ZuZLEf_wE-F",
        "o-NwVpltw8IX",
        "eHCojpl6xIG0",
        "pDVn9xGxxcpT",
        "t6n_pCqexryT"
      ],
      "gpuType": "T4",
      "authorship_tag": "ABX9TyN3iz4Dlr+frJi1hzDocbnS",
      "include_colab_link": true
    },
    "kernelspec": {
      "name": "python3",
      "display_name": "Python 3"
    },
    "language_info": {
      "name": "python"
    },
    "accelerator": "GPU"
  },
  "cells": [
    {
      "cell_type": "markdown",
      "metadata": {
        "id": "view-in-github",
        "colab_type": "text"
      },
      "source": [
        "<a href=\"https://colab.research.google.com/github/hangatzu2017/RAG/blob/main/RAG_MR_LOTR_RERANK.ipynb\" target=\"_parent\"><img src=\"https://colab.research.google.com/assets/colab-badge.svg\" alt=\"Open In Colab\"/></a>"
      ]
    },
    {
      "cell_type": "markdown",
      "source": [
        "In questo notebook vedremo 3 miglioramenti chiave per i sistemi R.A.G. (Retrival Augmented Generation)\n",
        "\n",
        "1. Il primo problema è rappresentato dall'avere diversi tipi di documenti, in questo caso infatti, è impossibile avere un unico indice. È necessario quindi creare più indici e indicizzarli tutti separatamente per eseguire la R.A.G.. Vedremo come migliorare i risultati in questo caso utilizzando Merger Retriever.\n",
        "\n",
        "2. Lost in the Middle! Indipendentemente dall'architettura del modello, quando si includono più di 10 documenti recuperati le prestazioni si riducono notevolmente. In breve: Quando i modelli devono accedere a informazioni rilevanti all'interno di lunghi contesti, tendono a ignorare i documenti forniti. Vedi: https://arxiv.org/abs/2307.03172\n",
        "Per evitare questo problema, è possibile riordinare i documenti dopo il recupero per evitare un calo delle prestazioni. Questa tecninca prende il nome di Long Context Reorder.\n",
        "\n",
        "3. Spesso l'ordine (score) con cui i chnk dei documenti indicizzati vengono recuperati non è esattamente quello voluto e le informazioni più pertinenti rischiano di finire nel dimenticatoio, fortunatamente esiste una tecnica chiamata Rerank che promette di farci dimenticare questo genere di problema.\n"
      ],
      "metadata": {
        "id": "x6Ve90kQonJq"
      }
    },
    {
      "cell_type": "markdown",
      "source": [
        "## 1. Prerequisiti e Librerie"
      ],
      "metadata": {
        "id": "fbe5TJAJp7cB"
      }
    },
    {
      "cell_type": "code",
      "source": [
        "!pip install -U langchain sentence_transformers pypdf chromadb flashrank --no-cache"
      ],
      "metadata": {
        "colab": {
          "base_uri": "https://localhost:8080/"
        },
        "id": "uL_FRoriqohS",
        "outputId": "47e7b703-7445-45e7-b567-17ff026604e0"
      },
      "execution_count": 41,
      "outputs": [
        {
          "output_type": "stream",
          "name": "stdout",
          "text": [
            "Requirement already satisfied: langchain in /usr/local/lib/python3.10/dist-packages (0.0.352)\n",
            "Requirement already satisfied: sentence_transformers in /usr/local/lib/python3.10/dist-packages (2.2.2)\n",
            "Requirement already satisfied: pypdf in /usr/local/lib/python3.10/dist-packages (3.17.3)\n",
            "Requirement already satisfied: chromadb in /usr/local/lib/python3.10/dist-packages (0.4.21)\n",
            "Requirement already satisfied: flashrank in /usr/local/lib/python3.10/dist-packages (0.1.64)\n",
            "Requirement already satisfied: PyYAML>=5.3 in /usr/local/lib/python3.10/dist-packages (from langchain) (6.0.1)\n",
            "Requirement already satisfied: SQLAlchemy<3,>=1.4 in /usr/local/lib/python3.10/dist-packages (from langchain) (2.0.23)\n",
            "Requirement already satisfied: aiohttp<4.0.0,>=3.8.3 in /usr/local/lib/python3.10/dist-packages (from langchain) (3.9.1)\n",
            "Requirement already satisfied: async-timeout<5.0.0,>=4.0.0 in /usr/local/lib/python3.10/dist-packages (from langchain) (4.0.3)\n",
            "Requirement already satisfied: dataclasses-json<0.7,>=0.5.7 in /usr/local/lib/python3.10/dist-packages (from langchain) (0.6.3)\n",
            "Requirement already satisfied: jsonpatch<2.0,>=1.33 in /usr/local/lib/python3.10/dist-packages (from langchain) (1.33)\n",
            "Requirement already satisfied: langchain-community<0.1,>=0.0.2 in /usr/local/lib/python3.10/dist-packages (from langchain) (0.0.6)\n",
            "Requirement already satisfied: langchain-core<0.2,>=0.1 in /usr/local/lib/python3.10/dist-packages (from langchain) (0.1.3)\n",
            "Requirement already satisfied: langsmith<0.1.0,>=0.0.70 in /usr/local/lib/python3.10/dist-packages (from langchain) (0.0.74)\n",
            "Requirement already satisfied: numpy<2,>=1 in /usr/local/lib/python3.10/dist-packages (from langchain) (1.23.5)\n",
            "Requirement already satisfied: pydantic<3,>=1 in /usr/local/lib/python3.10/dist-packages (from langchain) (1.10.13)\n",
            "Requirement already satisfied: requests<3,>=2 in /usr/local/lib/python3.10/dist-packages (from langchain) (2.31.0)\n",
            "Requirement already satisfied: tenacity<9.0.0,>=8.1.0 in /usr/local/lib/python3.10/dist-packages (from langchain) (8.2.3)\n",
            "Requirement already satisfied: transformers<5.0.0,>=4.6.0 in /usr/local/lib/python3.10/dist-packages (from sentence_transformers) (4.35.2)\n",
            "Requirement already satisfied: tqdm in /usr/local/lib/python3.10/dist-packages (from sentence_transformers) (4.66.1)\n",
            "Requirement already satisfied: torch>=1.6.0 in /usr/local/lib/python3.10/dist-packages (from sentence_transformers) (2.1.0+cu121)\n",
            "Requirement already satisfied: torchvision in /usr/local/lib/python3.10/dist-packages (from sentence_transformers) (0.16.0+cu121)\n",
            "Requirement already satisfied: scikit-learn in /usr/local/lib/python3.10/dist-packages (from sentence_transformers) (1.2.2)\n",
            "Requirement already satisfied: scipy in /usr/local/lib/python3.10/dist-packages (from sentence_transformers) (1.11.4)\n",
            "Requirement already satisfied: nltk in /usr/local/lib/python3.10/dist-packages (from sentence_transformers) (3.8.1)\n",
            "Requirement already satisfied: sentencepiece in /usr/local/lib/python3.10/dist-packages (from sentence_transformers) (0.1.99)\n",
            "Requirement already satisfied: huggingface-hub>=0.4.0 in /usr/local/lib/python3.10/dist-packages (from sentence_transformers) (0.19.4)\n",
            "Requirement already satisfied: chroma-hnswlib==0.7.3 in /usr/local/lib/python3.10/dist-packages (from chromadb) (0.7.3)\n",
            "Requirement already satisfied: fastapi>=0.95.2 in /usr/local/lib/python3.10/dist-packages (from chromadb) (0.105.0)\n",
            "Requirement already satisfied: uvicorn[standard]>=0.18.3 in /usr/local/lib/python3.10/dist-packages (from chromadb) (0.25.0)\n",
            "Requirement already satisfied: posthog>=2.4.0 in /usr/local/lib/python3.10/dist-packages (from chromadb) (3.1.0)\n",
            "Requirement already satisfied: typing-extensions>=4.5.0 in /usr/local/lib/python3.10/dist-packages (from chromadb) (4.9.0)\n",
            "Requirement already satisfied: pulsar-client>=3.1.0 in /usr/local/lib/python3.10/dist-packages (from chromadb) (3.3.0)\n",
            "Requirement already satisfied: onnxruntime>=1.14.1 in /usr/local/lib/python3.10/dist-packages (from chromadb) (1.16.3)\n",
            "Requirement already satisfied: opentelemetry-api>=1.2.0 in /usr/local/lib/python3.10/dist-packages (from chromadb) (1.22.0)\n",
            "Requirement already satisfied: opentelemetry-exporter-otlp-proto-grpc>=1.2.0 in /usr/local/lib/python3.10/dist-packages (from chromadb) (1.22.0)\n",
            "Requirement already satisfied: opentelemetry-instrumentation-fastapi>=0.41b0 in /usr/local/lib/python3.10/dist-packages (from chromadb) (0.43b0)\n",
            "Requirement already satisfied: opentelemetry-sdk>=1.2.0 in /usr/local/lib/python3.10/dist-packages (from chromadb) (1.22.0)\n",
            "Requirement already satisfied: tokenizers>=0.13.2 in /usr/local/lib/python3.10/dist-packages (from chromadb) (0.15.0)\n",
            "Requirement already satisfied: pypika>=0.48.9 in /usr/local/lib/python3.10/dist-packages (from chromadb) (0.48.9)\n",
            "Requirement already satisfied: overrides>=7.3.1 in /usr/local/lib/python3.10/dist-packages (from chromadb) (7.4.0)\n",
            "Requirement already satisfied: importlib-resources in /usr/local/lib/python3.10/dist-packages (from chromadb) (6.1.1)\n",
            "Requirement already satisfied: grpcio>=1.58.0 in /usr/local/lib/python3.10/dist-packages (from chromadb) (1.60.0)\n",
            "Requirement already satisfied: bcrypt>=4.0.1 in /usr/local/lib/python3.10/dist-packages (from chromadb) (4.1.2)\n",
            "Requirement already satisfied: typer>=0.9.0 in /usr/local/lib/python3.10/dist-packages (from chromadb) (0.9.0)\n",
            "Requirement already satisfied: kubernetes>=28.1.0 in /usr/local/lib/python3.10/dist-packages (from chromadb) (28.1.0)\n",
            "Requirement already satisfied: mmh3>=4.0.1 in /usr/local/lib/python3.10/dist-packages (from chromadb) (4.0.1)\n",
            "Requirement already satisfied: attrs>=17.3.0 in /usr/local/lib/python3.10/dist-packages (from aiohttp<4.0.0,>=3.8.3->langchain) (23.1.0)\n",
            "Requirement already satisfied: multidict<7.0,>=4.5 in /usr/local/lib/python3.10/dist-packages (from aiohttp<4.0.0,>=3.8.3->langchain) (6.0.4)\n",
            "Requirement already satisfied: yarl<2.0,>=1.0 in /usr/local/lib/python3.10/dist-packages (from aiohttp<4.0.0,>=3.8.3->langchain) (1.9.4)\n",
            "Requirement already satisfied: frozenlist>=1.1.1 in /usr/local/lib/python3.10/dist-packages (from aiohttp<4.0.0,>=3.8.3->langchain) (1.4.1)\n",
            "Requirement already satisfied: aiosignal>=1.1.2 in /usr/local/lib/python3.10/dist-packages (from aiohttp<4.0.0,>=3.8.3->langchain) (1.3.1)\n",
            "Requirement already satisfied: marshmallow<4.0.0,>=3.18.0 in /usr/local/lib/python3.10/dist-packages (from dataclasses-json<0.7,>=0.5.7->langchain) (3.20.1)\n",
            "Requirement already satisfied: typing-inspect<1,>=0.4.0 in /usr/local/lib/python3.10/dist-packages (from dataclasses-json<0.7,>=0.5.7->langchain) (0.9.0)\n",
            "Requirement already satisfied: anyio<4.0.0,>=3.7.1 in /usr/local/lib/python3.10/dist-packages (from fastapi>=0.95.2->chromadb) (3.7.1)\n",
            "Requirement already satisfied: starlette<0.28.0,>=0.27.0 in /usr/local/lib/python3.10/dist-packages (from fastapi>=0.95.2->chromadb) (0.27.0)\n",
            "Requirement already satisfied: filelock in /usr/local/lib/python3.10/dist-packages (from huggingface-hub>=0.4.0->sentence_transformers) (3.13.1)\n",
            "Requirement already satisfied: fsspec>=2023.5.0 in /usr/local/lib/python3.10/dist-packages (from huggingface-hub>=0.4.0->sentence_transformers) (2023.6.0)\n",
            "Requirement already satisfied: packaging>=20.9 in /usr/local/lib/python3.10/dist-packages (from huggingface-hub>=0.4.0->sentence_transformers) (23.2)\n",
            "Requirement already satisfied: jsonpointer>=1.9 in /usr/local/lib/python3.10/dist-packages (from jsonpatch<2.0,>=1.33->langchain) (2.4)\n",
            "Requirement already satisfied: certifi>=14.05.14 in /usr/local/lib/python3.10/dist-packages (from kubernetes>=28.1.0->chromadb) (2023.11.17)\n",
            "Requirement already satisfied: six>=1.9.0 in /usr/local/lib/python3.10/dist-packages (from kubernetes>=28.1.0->chromadb) (1.16.0)\n",
            "Requirement already satisfied: python-dateutil>=2.5.3 in /usr/local/lib/python3.10/dist-packages (from kubernetes>=28.1.0->chromadb) (2.8.2)\n",
            "Requirement already satisfied: google-auth>=1.0.1 in /usr/local/lib/python3.10/dist-packages (from kubernetes>=28.1.0->chromadb) (2.17.3)\n",
            "Requirement already satisfied: websocket-client!=0.40.0,!=0.41.*,!=0.42.*,>=0.32.0 in /usr/local/lib/python3.10/dist-packages (from kubernetes>=28.1.0->chromadb) (1.7.0)\n",
            "Requirement already satisfied: requests-oauthlib in /usr/local/lib/python3.10/dist-packages (from kubernetes>=28.1.0->chromadb) (1.3.1)\n",
            "Requirement already satisfied: oauthlib>=3.2.2 in /usr/local/lib/python3.10/dist-packages (from kubernetes>=28.1.0->chromadb) (3.2.2)\n",
            "Requirement already satisfied: urllib3<2.0,>=1.24.2 in /usr/local/lib/python3.10/dist-packages (from kubernetes>=28.1.0->chromadb) (1.26.18)\n",
            "Requirement already satisfied: coloredlogs in /usr/local/lib/python3.10/dist-packages (from onnxruntime>=1.14.1->chromadb) (15.0.1)\n",
            "Requirement already satisfied: flatbuffers in /usr/local/lib/python3.10/dist-packages (from onnxruntime>=1.14.1->chromadb) (23.5.26)\n",
            "Requirement already satisfied: protobuf in /usr/local/lib/python3.10/dist-packages (from onnxruntime>=1.14.1->chromadb) (3.20.3)\n",
            "Requirement already satisfied: sympy in /usr/local/lib/python3.10/dist-packages (from onnxruntime>=1.14.1->chromadb) (1.12)\n",
            "Requirement already satisfied: deprecated>=1.2.6 in /usr/local/lib/python3.10/dist-packages (from opentelemetry-api>=1.2.0->chromadb) (1.2.14)\n",
            "Requirement already satisfied: importlib-metadata<7.0,>=6.0 in /usr/local/lib/python3.10/dist-packages (from opentelemetry-api>=1.2.0->chromadb) (6.11.0)\n",
            "Requirement already satisfied: backoff<3.0.0,>=1.10.0 in /usr/local/lib/python3.10/dist-packages (from opentelemetry-exporter-otlp-proto-grpc>=1.2.0->chromadb) (2.2.1)\n",
            "Requirement already satisfied: googleapis-common-protos~=1.52 in /usr/local/lib/python3.10/dist-packages (from opentelemetry-exporter-otlp-proto-grpc>=1.2.0->chromadb) (1.62.0)\n",
            "Requirement already satisfied: opentelemetry-exporter-otlp-proto-common==1.22.0 in /usr/local/lib/python3.10/dist-packages (from opentelemetry-exporter-otlp-proto-grpc>=1.2.0->chromadb) (1.22.0)\n",
            "Requirement already satisfied: opentelemetry-proto==1.22.0 in /usr/local/lib/python3.10/dist-packages (from opentelemetry-exporter-otlp-proto-grpc>=1.2.0->chromadb) (1.22.0)\n",
            "Requirement already satisfied: opentelemetry-instrumentation-asgi==0.43b0 in /usr/local/lib/python3.10/dist-packages (from opentelemetry-instrumentation-fastapi>=0.41b0->chromadb) (0.43b0)\n",
            "Requirement already satisfied: opentelemetry-instrumentation==0.43b0 in /usr/local/lib/python3.10/dist-packages (from opentelemetry-instrumentation-fastapi>=0.41b0->chromadb) (0.43b0)\n",
            "Requirement already satisfied: opentelemetry-semantic-conventions==0.43b0 in /usr/local/lib/python3.10/dist-packages (from opentelemetry-instrumentation-fastapi>=0.41b0->chromadb) (0.43b0)\n",
            "Requirement already satisfied: opentelemetry-util-http==0.43b0 in /usr/local/lib/python3.10/dist-packages (from opentelemetry-instrumentation-fastapi>=0.41b0->chromadb) (0.43b0)\n",
            "Requirement already satisfied: setuptools>=16.0 in /usr/local/lib/python3.10/dist-packages (from opentelemetry-instrumentation==0.43b0->opentelemetry-instrumentation-fastapi>=0.41b0->chromadb) (67.7.2)\n",
            "Requirement already satisfied: wrapt<2.0.0,>=1.0.0 in /usr/local/lib/python3.10/dist-packages (from opentelemetry-instrumentation==0.43b0->opentelemetry-instrumentation-fastapi>=0.41b0->chromadb) (1.14.1)\n",
            "Requirement already satisfied: asgiref~=3.0 in /usr/local/lib/python3.10/dist-packages (from opentelemetry-instrumentation-asgi==0.43b0->opentelemetry-instrumentation-fastapi>=0.41b0->chromadb) (3.7.2)\n",
            "Requirement already satisfied: monotonic>=1.5 in /usr/local/lib/python3.10/dist-packages (from posthog>=2.4.0->chromadb) (1.6)\n",
            "Requirement already satisfied: charset-normalizer<4,>=2 in /usr/local/lib/python3.10/dist-packages (from requests<3,>=2->langchain) (3.3.2)\n",
            "Requirement already satisfied: idna<4,>=2.5 in /usr/local/lib/python3.10/dist-packages (from requests<3,>=2->langchain) (3.6)\n",
            "Requirement already satisfied: greenlet!=0.4.17 in /usr/local/lib/python3.10/dist-packages (from SQLAlchemy<3,>=1.4->langchain) (3.0.2)\n",
            "Requirement already satisfied: networkx in /usr/local/lib/python3.10/dist-packages (from torch>=1.6.0->sentence_transformers) (3.2.1)\n",
            "Requirement already satisfied: jinja2 in /usr/local/lib/python3.10/dist-packages (from torch>=1.6.0->sentence_transformers) (3.1.2)\n",
            "Requirement already satisfied: triton==2.1.0 in /usr/local/lib/python3.10/dist-packages (from torch>=1.6.0->sentence_transformers) (2.1.0)\n",
            "Requirement already satisfied: regex!=2019.12.17 in /usr/local/lib/python3.10/dist-packages (from transformers<5.0.0,>=4.6.0->sentence_transformers) (2023.6.3)\n",
            "Requirement already satisfied: safetensors>=0.3.1 in /usr/local/lib/python3.10/dist-packages (from transformers<5.0.0,>=4.6.0->sentence_transformers) (0.4.1)\n",
            "Requirement already satisfied: click<9.0.0,>=7.1.1 in /usr/local/lib/python3.10/dist-packages (from typer>=0.9.0->chromadb) (8.1.7)\n",
            "Requirement already satisfied: h11>=0.8 in /usr/local/lib/python3.10/dist-packages (from uvicorn[standard]>=0.18.3->chromadb) (0.14.0)\n",
            "Requirement already satisfied: httptools>=0.5.0 in /usr/local/lib/python3.10/dist-packages (from uvicorn[standard]>=0.18.3->chromadb) (0.6.1)\n",
            "Requirement already satisfied: python-dotenv>=0.13 in /usr/local/lib/python3.10/dist-packages (from uvicorn[standard]>=0.18.3->chromadb) (1.0.0)\n",
            "Requirement already satisfied: uvloop!=0.15.0,!=0.15.1,>=0.14.0 in /usr/local/lib/python3.10/dist-packages (from uvicorn[standard]>=0.18.3->chromadb) (0.19.0)\n",
            "Requirement already satisfied: watchfiles>=0.13 in /usr/local/lib/python3.10/dist-packages (from uvicorn[standard]>=0.18.3->chromadb) (0.21.0)\n",
            "Requirement already satisfied: websockets>=10.4 in /usr/local/lib/python3.10/dist-packages (from uvicorn[standard]>=0.18.3->chromadb) (12.0)\n",
            "Requirement already satisfied: joblib in /usr/local/lib/python3.10/dist-packages (from nltk->sentence_transformers) (1.3.2)\n",
            "Requirement already satisfied: threadpoolctl>=2.0.0 in /usr/local/lib/python3.10/dist-packages (from scikit-learn->sentence_transformers) (3.2.0)\n",
            "Requirement already satisfied: pillow!=8.3.*,>=5.3.0 in /usr/local/lib/python3.10/dist-packages (from torchvision->sentence_transformers) (9.4.0)\n",
            "Requirement already satisfied: sniffio>=1.1 in /usr/local/lib/python3.10/dist-packages (from anyio<4.0.0,>=3.7.1->fastapi>=0.95.2->chromadb) (1.3.0)\n",
            "Requirement already satisfied: exceptiongroup in /usr/local/lib/python3.10/dist-packages (from anyio<4.0.0,>=3.7.1->fastapi>=0.95.2->chromadb) (1.2.0)\n",
            "Requirement already satisfied: cachetools<6.0,>=2.0.0 in /usr/local/lib/python3.10/dist-packages (from google-auth>=1.0.1->kubernetes>=28.1.0->chromadb) (5.3.2)\n",
            "Requirement already satisfied: pyasn1-modules>=0.2.1 in /usr/local/lib/python3.10/dist-packages (from google-auth>=1.0.1->kubernetes>=28.1.0->chromadb) (0.3.0)\n",
            "Requirement already satisfied: rsa<5,>=3.1.4 in /usr/local/lib/python3.10/dist-packages (from google-auth>=1.0.1->kubernetes>=28.1.0->chromadb) (4.9)\n",
            "Requirement already satisfied: zipp>=0.5 in /usr/local/lib/python3.10/dist-packages (from importlib-metadata<7.0,>=6.0->opentelemetry-api>=1.2.0->chromadb) (3.17.0)\n",
            "Requirement already satisfied: mypy-extensions>=0.3.0 in /usr/local/lib/python3.10/dist-packages (from typing-inspect<1,>=0.4.0->dataclasses-json<0.7,>=0.5.7->langchain) (1.0.0)\n",
            "Requirement already satisfied: humanfriendly>=9.1 in /usr/local/lib/python3.10/dist-packages (from coloredlogs->onnxruntime>=1.14.1->chromadb) (10.0)\n",
            "Requirement already satisfied: MarkupSafe>=2.0 in /usr/local/lib/python3.10/dist-packages (from jinja2->torch>=1.6.0->sentence_transformers) (2.1.3)\n",
            "Requirement already satisfied: mpmath>=0.19 in /usr/local/lib/python3.10/dist-packages (from sympy->onnxruntime>=1.14.1->chromadb) (1.3.0)\n",
            "Requirement already satisfied: pyasn1<0.6.0,>=0.4.6 in /usr/local/lib/python3.10/dist-packages (from pyasn1-modules>=0.2.1->google-auth>=1.0.1->kubernetes>=28.1.0->chromadb) (0.5.1)\n"
          ]
        }
      ]
    },
    {
      "cell_type": "code",
      "execution_count": 42,
      "metadata": {
        "id": "Lw05qeLjocAn"
      },
      "outputs": [],
      "source": [
        "import os, yaml\n",
        "from langchain.vectorstores import Chroma\n",
        "from langchain.chat_models import AzureChatOpenAI\n",
        "from langchain.embeddings import HuggingFaceBgeEmbeddings\n",
        "from langchain.document_loaders import PyPDFLoader, TextLoader\n",
        "from langchain.retrievers.merger_retriever import MergerRetriever\n",
        "from langchain.document_transformers import (\n",
        "                                            EmbeddingsRedundantFilter,\n",
        "                                            EmbeddingsClusteringFilter,\n",
        "                                            LongContextReorder\n",
        "                                            )\n",
        "from langchain.retrievers.document_compressors import DocumentCompressorPipeline\n",
        "from langchain.text_splitter import RecursiveCharacterTextSplitter\n",
        "from langchain.retrievers import ContextualCompressionRetriever"
      ]
    },
    {
      "cell_type": "markdown",
      "source": [
        "## 2. Definizione il modello di embedding da utilizzare"
      ],
      "metadata": {
        "id": "f3alXHAEq5ks"
      }
    },
    {
      "cell_type": "code",
      "source": [
        "print(\"Caricamento del modello di Embeddings...\")\n",
        "embedding = HuggingFaceBgeEmbeddings(\n",
        "                                    model_name=\"intfloat/multilingual-e5-base\",\n",
        "                                    model_kwargs={'device': 'cuda'},\n",
        "                                    encode_kwargs={'normalize_embeddings': True}\n",
        "                                    )\n",
        "\n"
      ],
      "metadata": {
        "colab": {
          "base_uri": "https://localhost:8080/"
        },
        "id": "vzysy-jTqMcd",
        "outputId": "fc078344-3030-42a0-eb37-5823fee86b75"
      },
      "execution_count": 43,
      "outputs": [
        {
          "output_type": "stream",
          "name": "stdout",
          "text": [
            "Caricamento del modello di Embeddings...\n"
          ]
        }
      ]
    },
    {
      "cell_type": "markdown",
      "source": [
        "## 3. Preprocessamento dei Dati"
      ],
      "metadata": {
        "id": "UsRrVb5qr9Vh"
      }
    },
    {
      "cell_type": "code",
      "source": [
        "loader_un_sdg = PyPDFLoader(\"https://www.maristi.it/ciao/wp-content/uploads/2020/02/scuolaguida-manuale-teoria-A1-A-B.pdf\")\n",
        "documents_un_sdg = loader_un_sdg.load()\n",
        "text_splitter_un_sdg = RecursiveCharacterTextSplitter(\n",
        "                                                    chunk_size=1000,\n",
        "                                                    chunk_overlap=100\n",
        "                                                    )\n",
        "texts_un_sdg = text_splitter_un_sdg.split_documents(documents_un_sdg)"
      ],
      "metadata": {
        "id": "gfz7DJwmqNMR"
      },
      "execution_count": 44,
      "outputs": []
    },
    {
      "cell_type": "code",
      "source": [
        "texts_un_sdg[0]"
      ],
      "metadata": {
        "colab": {
          "base_uri": "https://localhost:8080/"
        },
        "id": "dvp3HKwXtqs_",
        "outputId": "efa90f20-4f71-4df8-d7de-217f2c49e8b9"
      },
      "execution_count": 45,
      "outputs": [
        {
          "output_type": "execute_result",
          "data": {
            "text/plain": [
              "Document(page_content='Valerio Platia \\nRoberto Mastri \\n \\n \\n \\nManuale di  teoria \\nper le patenti A1, A e  B\\nEdizione 2008', metadata={'source': 'https://www.maristi.it/ciao/wp-content/uploads/2020/02/scuolaguida-manuale-teoria-A1-A-B.pdf', 'page': 0})"
            ]
          },
          "metadata": {},
          "execution_count": 45
        }
      ]
    },
    {
      "cell_type": "code",
      "source": [
        "loader_second_doc = PyPDFLoader(\"https://fad.unich.it/pluginfile.php/37229/course/section/1893/IT%20concetti%20Base%201.pdf\")\n",
        "documents_second = loader_second_doc.load()\n",
        "text_splitter_doc_second = RecursiveCharacterTextSplitter(\n",
        "                                                                chunk_size=1000,\n",
        "                                                                chunk_overlap=100\n",
        "                                                                )\n",
        "texts_second_doc = text_splitter_doc_second.split_documents(documents_second)"
      ],
      "metadata": {
        "id": "By-7J_eltw-h"
      },
      "execution_count": 46,
      "outputs": []
    },
    {
      "cell_type": "code",
      "source": [
        "texts_second_doc[0]"
      ],
      "metadata": {
        "colab": {
          "base_uri": "https://localhost:8080/"
        },
        "id": "e85ZSvN7v0Xl",
        "outputId": "ac24cffc-1297-44a2-cc80-c3d36c095eeb"
      },
      "execution_count": 47,
      "outputs": [
        {
          "output_type": "execute_result",
          "data": {
            "text/plain": [
              "Document(page_content=\"Corso di Informatica\\nI Concetti base dell'informatica\", metadata={'source': 'https://fad.unich.it/pluginfile.php/37229/course/section/1893/IT%20concetti%20Base%201.pdf', 'page': 0})"
            ]
          },
          "metadata": {},
          "execution_count": 47
        }
      ]
    },
    {
      "cell_type": "markdown",
      "source": [
        "## 4.Vector Store"
      ],
      "metadata": {
        "id": "5ZuZLEf_wE-F"
      }
    },
    {
      "cell_type": "code",
      "source": [
        "if not os.path.exists(\"db/18/un_sdg_chroma_cosine\"):\n",
        "    un_sdg_store = Chroma.from_documents(\n",
        "                                        texts_un_sdg,\n",
        "                                        embedding,\n",
        "                                        collection_metadata={\"hnsw:space\": \"cosine\"},\n",
        "                                        persist_directory=\"db/18/un_sdg_chroma_cosine\"\n",
        "                                        )\n",
        "else:\n",
        "    un_sdg_store = Chroma(\n",
        "                        persist_directory=\"db/18/un_sdg_chroma_cosine\",\n",
        "                        embedding_function=embedding\n",
        "                        )\n",
        "\n",
        "if not os.path.exists(\"db/18/second_chroma_cosine\"):\n",
        "    second_doc_store = Chroma.from_documents(\n",
        "                                        texts_second_doc,\n",
        "                                        embedding,\n",
        "                                        collection_metadata={\"hnsw:space\": \"cosine\"},\n",
        "                                        persist_directory=\"db/18/second_chroma_cosine\"\n",
        "                                        )\n",
        "else:\n",
        "    second_doc_store = Chroma(\n",
        "                        persist_directory=\"db/18/second_chroma_cosine\",\n",
        "                        embedding_function=embedding\n",
        "                        )"
      ],
      "metadata": {
        "id": "1BClmHvJuWhr"
      },
      "execution_count": 48,
      "outputs": []
    },
    {
      "cell_type": "markdown",
      "source": [
        "## 5. Costruire il Merged Retriever"
      ],
      "metadata": {
        "id": "o-NwVpltw8IX"
      }
    },
    {
      "cell_type": "code",
      "source": [
        "retriever_un_sdg = un_sdg_store.as_retriever(\n",
        "                                            search_type = \"similarity\",\n",
        "                                            search_kwargs = {\n",
        "                                                            \"k\":3,\n",
        "                                                            \"include_metadata\": True\n",
        "                                                            }\n",
        "                                            )\n",
        "\n",
        "retriever_second_doc = second_doc_store.as_retriever(\n",
        "                                                                search_type = \"similarity\",\n",
        "                                                                search_kwargs = {\n",
        "                                                                                \"k\":3,\n",
        "                                                                                \"include_metadata\": True\n",
        "                                                                                }\n",
        "                                            )\n",
        "lotr = MergerRetriever(retrievers=[retriever_un_sdg, retriever_second_doc])\n",
        "\n",
        "lotr"
      ],
      "metadata": {
        "colab": {
          "base_uri": "https://localhost:8080/"
        },
        "id": "Wo4q9MZsw_9W",
        "outputId": "13ab58b0-8320-47af-df29-fd5e86b540d7"
      },
      "execution_count": 49,
      "outputs": [
        {
          "output_type": "execute_result",
          "data": {
            "text/plain": [
              "MergerRetriever(retrievers=[VectorStoreRetriever(tags=['Chroma', 'HuggingFaceBgeEmbeddings'], vectorstore=<langchain_community.vectorstores.chroma.Chroma object at 0x7e3dd38e4610>, search_kwargs={'k': 3, 'include_metadata': True}), VectorStoreRetriever(tags=['Chroma', 'HuggingFaceBgeEmbeddings'], vectorstore=<langchain_community.vectorstores.chroma.Chroma object at 0x7e3e24d80640>, search_kwargs={'k': 3, 'include_metadata': True})])"
            ]
          },
          "metadata": {},
          "execution_count": 49
        }
      ]
    },
    {
      "cell_type": "markdown",
      "source": [
        "## 6. Indicizzazione"
      ],
      "metadata": {
        "id": "eHCojpl6xIG0"
      }
    },
    {
      "cell_type": "code",
      "source": [
        "question = \"come si procede ad un sorpasso?\"\n",
        "for chunks in lotr.get_relevant_documents(question):\n",
        "    print(chunks.page_content)"
      ],
      "metadata": {
        "colab": {
          "base_uri": "https://localhost:8080/"
        },
        "id": "BDXvPyW6xHi0",
        "outputId": "1f08c846-dfcd-44c0-fc0e-f93dbfb9df6d"
      },
      "execution_count": 50,
      "outputs": [
        {
          "output_type": "stream",
          "name": "stdout",
          "text": [
            "Valutare se lo spazio libero sia sufficiente ad effettuare correttamente la mano-\n",
            "vra; accertare che la differenza di velocità tra il nostro veicolo e quella del veico-\n",
            "lo da superare sia sufficiente; accertare, dal retrovisore, che nessun veicolo che\n",
            "segue abbia iniziato la manovra di sorpasso; effettuare la manovra con partico-\n",
            "lare attenzione, data la limitata visibilità notturna. È sba gliato dire che biso gna:\n",
            "effettuare la manovra anche con scarsa visibilità purché la lar ghezza della strada\n",
            "lo consenta; accendere in o gni caso anche i proiettori fendinebbia; sor passare\n",
            "sulla scia (dietro ) di un veicolo che limita la visibilità; rinunciare a sor passare se\n",
            "il veicolo che precede non ha l'impianto di illuminazione efficiente. \n",
            " \n",
            "IL SORPASSO È VIETATO: \n",
            "Quando ci sia l'apposito segnale; quando non si dispone di uno spazio libero suf-\n",
            "ficiente; nelle curve e nel tratto ascendente (in salita) del dosso, solo se la stra-\n",
            "2Indice Argomenti\n",
            "Libro\n",
            "Concetti Base\n",
            "Hardware\n",
            "Software\n",
            "Misurare la grandezza\n",
            "Dispositivi di MemoriaInterazione tra \n",
            "dispositivi di memoria\n",
            "Misurare la velocità \n",
            "(data rate)\n",
            "Prestazioni dei \n",
            "dispositivi di memoria\n",
            "Prestazioni del computer\n",
            "Manuale di teoria per le patenti A1 A e B 77\n",
            "Lezione 15. Sorpasso \n",
            " \n",
            "Questa lezione tratta del sorpasso , chiarendo che cosa fare prima  di iniziare la mano-\n",
            "vra, durante il rientro  e come comportarsi quando si è sorpassati . \n",
            " \n",
            "Nella seconda parte si elencheranno i casi in cui il sorpasso è vietato  e quelli in cui è \n",
            "consentito solo in particolari condizioni  (da destra, presso un incrocio, in prossimità \n",
            "di un dosso). \n",
            " \n",
            " \n",
            "SORPASSO \n",
            "Prima di iniziare un sor passo è necessario mantenere la distanza di sicurezza,\n",
            "accertare che la visibilità sia tale da poterlo fare senza pericolo e che non vi sia-\n",
            "no segnali che lo vietino; che si disponga di spazio libero sufficiente e che i vei-\n",
            "coli che se guono o precedono non abbiano iniziato la stessa manovra. Quindi si\n",
            "deve: segnalare la manovra ai conducenti che seguono azionando l'indicatore di \n",
            "direzione sinistro e avvertire quelli che precedono con il clacson (ove consentito )\n",
            "3Libro di riferimento\n",
            "Ecdl 5.0 Open Source\n",
            "F. Lunghezzani\n",
            "D. Princivalle\n",
            "HOEPLI Informatica\n",
            "dentemente imposto (non indica la fine del divieto di sorpasso tra le sole auto-\n",
            "vetture); indica il punto in cui termina il divieto di sorpasso; non consente il sor-\n",
            "passo se deve essere oltre passata la striscia continua; può essere posto sia nei\n",
            "centri abitati che fuori e non im pone un particolare limite di velocità. È sba gliato\n",
            "dire che il se gnale indica la fine del divieto di transito o di sosta (infatti indica la\n",
            "fine del divieto di sorpasso).\n",
            "54SOFTWARE\n",
            "Applicazione : programma (o insieme di programmi) che \n",
            "può essere eseguito da un determinato Sistema Operativo\n",
            "Esempi : elaborazione testi, gestione paghe, fatturazione, \n",
            "presentazioni, grafica pittorica e CAD; calcoli scientifici; \n",
            "transazioni commerciali\n"
          ]
        }
      ]
    },
    {
      "cell_type": "code",
      "source": [
        "docs = lotr.get_relevant_documents(question)"
      ],
      "metadata": {
        "id": "PEB3LjncxUvM"
      },
      "execution_count": 51,
      "outputs": []
    },
    {
      "cell_type": "markdown",
      "source": [
        "## 7. Long Context Reorder"
      ],
      "metadata": {
        "id": "pDVn9xGxxcpT"
      }
    },
    {
      "cell_type": "code",
      "source": [
        "reordering = LongContextReorder()\n",
        "reordered_docs = reordering.transform_documents(docs)\n",
        "\n",
        "for chunks in reordered_docs:\n",
        "    print(chunks.page_content)"
      ],
      "metadata": {
        "colab": {
          "base_uri": "https://localhost:8080/"
        },
        "id": "-_aO-YNDxfKg",
        "outputId": "af8b9e86-4aad-461b-c034-a7aaf51b2006"
      },
      "execution_count": 52,
      "outputs": [
        {
          "output_type": "stream",
          "name": "stdout",
          "text": [
            "2Indice Argomenti\n",
            "Libro\n",
            "Concetti Base\n",
            "Hardware\n",
            "Software\n",
            "Misurare la grandezza\n",
            "Dispositivi di MemoriaInterazione tra \n",
            "dispositivi di memoria\n",
            "Misurare la velocità \n",
            "(data rate)\n",
            "Prestazioni dei \n",
            "dispositivi di memoria\n",
            "Prestazioni del computer\n",
            "3Libro di riferimento\n",
            "Ecdl 5.0 Open Source\n",
            "F. Lunghezzani\n",
            "D. Princivalle\n",
            "HOEPLI Informatica\n",
            "54SOFTWARE\n",
            "Applicazione : programma (o insieme di programmi) che \n",
            "può essere eseguito da un determinato Sistema Operativo\n",
            "Esempi : elaborazione testi, gestione paghe, fatturazione, \n",
            "presentazioni, grafica pittorica e CAD; calcoli scientifici; \n",
            "transazioni commerciali\n",
            "dentemente imposto (non indica la fine del divieto di sorpasso tra le sole auto-\n",
            "vetture); indica il punto in cui termina il divieto di sorpasso; non consente il sor-\n",
            "passo se deve essere oltre passata la striscia continua; può essere posto sia nei\n",
            "centri abitati che fuori e non im pone un particolare limite di velocità. È sba gliato\n",
            "dire che il se gnale indica la fine del divieto di transito o di sosta (infatti indica la\n",
            "fine del divieto di sorpasso).\n",
            "Manuale di teoria per le patenti A1 A e B 77\n",
            "Lezione 15. Sorpasso \n",
            " \n",
            "Questa lezione tratta del sorpasso , chiarendo che cosa fare prima  di iniziare la mano-\n",
            "vra, durante il rientro  e come comportarsi quando si è sorpassati . \n",
            " \n",
            "Nella seconda parte si elencheranno i casi in cui il sorpasso è vietato  e quelli in cui è \n",
            "consentito solo in particolari condizioni  (da destra, presso un incrocio, in prossimità \n",
            "di un dosso). \n",
            " \n",
            " \n",
            "SORPASSO \n",
            "Prima di iniziare un sor passo è necessario mantenere la distanza di sicurezza,\n",
            "accertare che la visibilità sia tale da poterlo fare senza pericolo e che non vi sia-\n",
            "no segnali che lo vietino; che si disponga di spazio libero sufficiente e che i vei-\n",
            "coli che se guono o precedono non abbiano iniziato la stessa manovra. Quindi si\n",
            "deve: segnalare la manovra ai conducenti che seguono azionando l'indicatore di \n",
            "direzione sinistro e avvertire quelli che precedono con il clacson (ove consentito )\n",
            "Valutare se lo spazio libero sia sufficiente ad effettuare correttamente la mano-\n",
            "vra; accertare che la differenza di velocità tra il nostro veicolo e quella del veico-\n",
            "lo da superare sia sufficiente; accertare, dal retrovisore, che nessun veicolo che\n",
            "segue abbia iniziato la manovra di sorpasso; effettuare la manovra con partico-\n",
            "lare attenzione, data la limitata visibilità notturna. È sba gliato dire che biso gna:\n",
            "effettuare la manovra anche con scarsa visibilità purché la lar ghezza della strada\n",
            "lo consenta; accendere in o gni caso anche i proiettori fendinebbia; sor passare\n",
            "sulla scia (dietro ) di un veicolo che limita la visibilità; rinunciare a sor passare se\n",
            "il veicolo che precede non ha l'impianto di illuminazione efficiente. \n",
            " \n",
            "IL SORPASSO È VIETATO: \n",
            "Quando ci sia l'apposito segnale; quando non si dispone di uno spazio libero suf-\n",
            "ficiente; nelle curve e nel tratto ascendente (in salita) del dosso, solo se la stra-\n"
          ]
        }
      ]
    },
    {
      "cell_type": "markdown",
      "source": [
        "## 8. Rerank"
      ],
      "metadata": {
        "id": "t6n_pCqexryT"
      }
    },
    {
      "cell_type": "code",
      "source": [
        "from flashrank.Ranker import Ranker, RerankRequest\n",
        "# Small (~34MB), slightly slower & best performance (ranking precision).\n",
        "ranker = Ranker(model_name=\"ms-marco-MultiBERT-L-12\", cache_dir=\"/opt\")"
      ],
      "metadata": {
        "id": "86tEHp2Ext2H"
      },
      "execution_count": 53,
      "outputs": []
    },
    {
      "cell_type": "code",
      "source": [
        "# Conversione dell'oggetto Document nel formato adatto a flashrank.\n",
        "c_docs = []\n",
        "sid = 1\n",
        "for doc in docs:\n",
        "  c_docs.append({\n",
        "      \"id\": sid,\n",
        "      \"text\": doc.page_content,\n",
        "      \"meta\": doc.metadata\n",
        "  })\n",
        "\n",
        "  sid = sid + 1"
      ],
      "metadata": {
        "id": "vR9J-ybADUl-"
      },
      "execution_count": 54,
      "outputs": []
    },
    {
      "cell_type": "code",
      "source": [
        "rerankrequest = RerankRequest(query=question, passages=c_docs)\n",
        "results = ranker.rerank(rerankrequest)\n",
        "\n",
        "for result in results:\n",
        "  print(result['text'] + \"[\"+str(result['score'])+\"]\" + \"\\n\")"
      ],
      "metadata": {
        "colab": {
          "base_uri": "https://localhost:8080/"
        },
        "id": "HG0XZNutA_7F",
        "outputId": "231d8bbd-aa42-4764-c63f-dac1fa14b361"
      },
      "execution_count": 55,
      "outputs": [
        {
          "output_type": "stream",
          "name": "stdout",
          "text": [
            "Manuale di teoria per le patenti A1 A e B 77\n",
            "Lezione 15. Sorpasso \n",
            " \n",
            "Questa lezione tratta del sorpasso , chiarendo che cosa fare prima  di iniziare la mano-\n",
            "vra, durante il rientro  e come comportarsi quando si è sorpassati . \n",
            " \n",
            "Nella seconda parte si elencheranno i casi in cui il sorpasso è vietato  e quelli in cui è \n",
            "consentito solo in particolari condizioni  (da destra, presso un incrocio, in prossimità \n",
            "di un dosso). \n",
            " \n",
            " \n",
            "SORPASSO \n",
            "Prima di iniziare un sor passo è necessario mantenere la distanza di sicurezza,\n",
            "accertare che la visibilità sia tale da poterlo fare senza pericolo e che non vi sia-\n",
            "no segnali che lo vietino; che si disponga di spazio libero sufficiente e che i vei-\n",
            "coli che se guono o precedono non abbiano iniziato la stessa manovra. Quindi si\n",
            "deve: segnalare la manovra ai conducenti che seguono azionando l'indicatore di \n",
            "direzione sinistro e avvertire quelli che precedono con il clacson (ove consentito )[0.9668422]\n",
            "\n",
            "Valutare se lo spazio libero sia sufficiente ad effettuare correttamente la mano-\n",
            "vra; accertare che la differenza di velocità tra il nostro veicolo e quella del veico-\n",
            "lo da superare sia sufficiente; accertare, dal retrovisore, che nessun veicolo che\n",
            "segue abbia iniziato la manovra di sorpasso; effettuare la manovra con partico-\n",
            "lare attenzione, data la limitata visibilità notturna. È sba gliato dire che biso gna:\n",
            "effettuare la manovra anche con scarsa visibilità purché la lar ghezza della strada\n",
            "lo consenta; accendere in o gni caso anche i proiettori fendinebbia; sor passare\n",
            "sulla scia (dietro ) di un veicolo che limita la visibilità; rinunciare a sor passare se\n",
            "il veicolo che precede non ha l'impianto di illuminazione efficiente. \n",
            " \n",
            "IL SORPASSO È VIETATO: \n",
            "Quando ci sia l'apposito segnale; quando non si dispone di uno spazio libero suf-\n",
            "ficiente; nelle curve e nel tratto ascendente (in salita) del dosso, solo se la stra-[0.9613171]\n",
            "\n",
            "dentemente imposto (non indica la fine del divieto di sorpasso tra le sole auto-\n",
            "vetture); indica il punto in cui termina il divieto di sorpasso; non consente il sor-\n",
            "passo se deve essere oltre passata la striscia continua; può essere posto sia nei\n",
            "centri abitati che fuori e non im pone un particolare limite di velocità. È sba gliato\n",
            "dire che il se gnale indica la fine del divieto di transito o di sosta (infatti indica la\n",
            "fine del divieto di sorpasso).[0.9277302]\n",
            "\n",
            "54SOFTWARE\n",
            "Applicazione : programma (o insieme di programmi) che \n",
            "può essere eseguito da un determinato Sistema Operativo\n",
            "Esempi : elaborazione testi, gestione paghe, fatturazione, \n",
            "presentazioni, grafica pittorica e CAD; calcoli scientifici; \n",
            "transazioni commerciali[0.047742993]\n",
            "\n",
            "2Indice Argomenti\n",
            "Libro\n",
            "Concetti Base\n",
            "Hardware\n",
            "Software\n",
            "Misurare la grandezza\n",
            "Dispositivi di MemoriaInterazione tra \n",
            "dispositivi di memoria\n",
            "Misurare la velocità \n",
            "(data rate)\n",
            "Prestazioni dei \n",
            "dispositivi di memoria\n",
            "Prestazioni del computer[0.044142433]\n",
            "\n",
            "3Libro di riferimento\n",
            "Ecdl 5.0 Open Source\n",
            "F. Lunghezzani\n",
            "D. Princivalle\n",
            "HOEPLI Informatica[0.03364056]\n",
            "\n"
          ]
        }
      ]
    },
    {
      "cell_type": "markdown",
      "source": [
        "## Conclusioni\n",
        "\n",
        "Il Merge Retriever risulta sicuramente uno strumento molto comodo.\n",
        "Per quanto concerne invece il Long Context Reorder, rimango perplesso guardando ai risultati ottenuti (almenpo per la lingua italiana).\n",
        "Sono piacevolmente sorpreso invece dall'efficacia dimostrata dal Reranker Flashrank [https://github.com/PrithivirajDamodaran/FlashRank]"
      ],
      "metadata": {
        "id": "B2adBS7tJK3y"
      }
    }
  ]
}